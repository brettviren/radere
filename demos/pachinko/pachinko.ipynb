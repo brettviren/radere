{
 "cells": [
  {
   "cell_type": "code",
   "execution_count": 1,
   "id": "0ab1749f",
   "metadata": {
    "scrolled": true
   },
   "outputs": [
    {
     "name": "stdout",
     "output_type": "stream",
     "text": [
      "torch.Size([10, 4])\n",
      "\tx\ty\tq\tsigma\n",
      "   863.63   15.489      1.0      0.0\n",
      "   336.42   29.716      1.0      0.0\n",
      "   871.92   8.6365      1.0      0.0\n",
      "   194.97   48.846      1.0      0.0\n",
      "   512.73  -9.7032      1.0      0.0\n",
      "   618.74   38.358      1.0      0.0\n",
      "   51.316   36.878      1.0      0.0\n",
      "   331.87   16.249      1.0      0.0\n",
      "   39.311   44.592      1.0      0.0\n",
      "    401.3  -28.002      1.0      0.0\n"
     ]
    }
   ],
   "source": [
    "import pachinko\n",
    "nbatches = 10000\n",
    "nperevent = 10\n",
    "depos = pachinko.random_depos(nbatches, nperevent)\n",
    "\n",
    "def dump_deposet(depos):\n",
    "    print(depos.shape)\n",
    "    print(\"\\tx\\ty\\tq\\tsigma\")\n",
    "    for one in depos[:,:]:\n",
    "        print(\"\".join([f'{t:9.5}' for t in one.unbind()]))\n",
    "dump_deposet(depos[0])\n"
   ]
  },
  {
   "cell_type": "code",
   "execution_count": 2,
   "id": "2b505833",
   "metadata": {},
   "outputs": [
    {
     "name": "stdout",
     "output_type": "stream",
     "text": [
      "Drifter       DT: -4.595119953155518 0.009999998845160007\n",
      "Drifter lifetime: -0.8472977876663208 3000.0\n",
      "torch.Size([10, 4])\n",
      "\tx\ty\tq\tsigma\n",
      "      0.0   15.489  0.74985    4.156\n",
      "      0.0   29.716  0.89392   2.5939\n",
      "      0.0   8.6365  0.74778   4.1759\n",
      "      0.0   48.846  0.93708   1.9747\n",
      "      0.0  -9.7032   0.8429   3.2023\n",
      "      0.0   38.358  0.81363   3.5178\n",
      "      0.0   36.878  0.98304   1.0131\n",
      "      0.0   16.249  0.89528   2.5763\n",
      "      0.0   44.592  0.98698  0.88669\n",
      "      0.0  -28.002  0.87479    2.833\n"
     ]
    }
   ],
   "source": [
    "import torch\n",
    "true_dt = 0.01\n",
    "true_lt = 3000.0\n",
    "drifter = pachinko.Drifter(true_dt, true_lt)\n",
    "drifter2 = pachinko.Drifter(0.02, 2000.0)\n",
    "print('Drifter       DT:', drifter.param_dt.item(), drifter.DT.item())\n",
    "print('Drifter lifetime:', drifter.param_lt.item(), drifter.lifetime.item())\n",
    "with torch.no_grad():\n",
    "    drifted = drifter(depos[0])\n",
    "    drifted2 = drifter2(depos[0])\n",
    "dump_deposet(drifted)\n"
   ]
  },
  {
   "cell_type": "code",
   "execution_count": 3,
   "id": "04b8e767",
   "metadata": {
    "scrolled": true
   },
   "outputs": [
    {
     "name": "stdout",
     "output_type": "stream",
     "text": [
      "tensor([0.0000e+00, 0.0000e+00, 9.3855e-07, 1.0839e-02, 5.1301e-01, 3.4830e-01,\n",
      "        2.8867e-03, 9.1176e-02, 6.1210e-01, 1.3882e-01, 1.4673e-02, 2.5022e-01,\n",
      "        5.4582e-01, 1.1762e+00, 3.9994e-01, 1.0811e-01, 7.4221e-01, 1.1406e+00,\n",
      "        6.6768e-01, 1.1827e+00, 7.7583e-01])\n",
      "tensor([0.0000e+00, 1.2192e-07, 3.2821e-04, 4.5659e-02, 4.2059e-01, 3.3029e-01,\n",
      "        2.7018e-02, 1.4233e-01, 4.3568e-01, 1.8316e-01, 5.3364e-02, 2.2565e-01,\n",
      "        4.7489e-01, 9.1549e-01, 4.4646e-01, 1.9977e-01, 5.9507e-01, 1.0913e+00,\n",
      "        6.2369e-01, 1.2796e+00, 6.5702e-01])\n"
     ]
    }
   ],
   "source": [
    "nwires = 21\n",
    "pitch = 5.0\n",
    "span = nwires * pitch\n",
    "half = 0.5*span\n",
    "bins = torch.linspace(-half, half, nwires+1)\n",
    "collector = pachinko.Collector(bins)\n",
    "with torch.no_grad():\n",
    "    adcs = collector(drifted)\n",
    "    adcs2 = collector(drifted2)\n",
    "print(adcs)\n",
    "print(adcs2)"
   ]
  },
  {
   "cell_type": "markdown",
   "id": "2377c6e0",
   "metadata": {},
   "source": [
    "We make a \"reality\" and \"model\" modules which are sequential compositions of a drifter and collector, with different parameters.  "
   ]
  },
  {
   "cell_type": "code",
   "execution_count": 15,
   "id": "1189fb2f",
   "metadata": {},
   "outputs": [
    {
     "name": "stdout",
     "output_type": "stream",
     "text": [
      "tensor(0.0100, grad_fn=<AddBackward0>) tensor(3000., grad_fn=<AddBackward0>)\n",
      "tensor([-52.5000, -47.5000, -42.5000, -37.5000, -32.5000, -27.5000, -22.5000,\n",
      "        -17.5000, -12.5000,  -7.5000,  -2.5000,   2.5000,   7.5000,  12.5000,\n",
      "         17.5000,  22.5000,  27.5000,  32.5000,  37.5000,  42.5000,  47.5000,\n",
      "         52.5000])\n",
      "torch.Size([22]) torch.Size([21])\n"
     ]
    }
   ],
   "source": [
    "\n",
    "\n",
    "reality = pachinko.make_model(0.01, 3000.0, pitch, nwires)\n",
    "model = pachinko.make_model(0.02, 2000.0, pitch, nwires)\n",
    "drifter, collector = reality.children()\n",
    "print(drifter.DT, drifter.lifetime)\n",
    "print(collector.binning)\n",
    "print(collector.binning.shape, adcs.shape)\n",
    "with torch.no_grad():\n",
    "    r_adcs = reality(depos[0])\n",
    "    m_adcs = model(depos[0])\n"
   ]
  },
  {
   "cell_type": "code",
   "execution_count": 16,
   "id": "ac13fbe5",
   "metadata": {},
   "outputs": [
    {
     "data": {
      "image/png": "[encoded data removed]",
      "text/plain": [
       "<Figure size 432x288 with 3 Axes>"
      ]
     },
     "metadata": {
      "needs_background": "light"
     },
     "output_type": "display_data"
    }
   ],
   "source": [
    "import matplotlib.pyplot as plt\n",
    "ax1 = plt.subplot(311)\n",
    "ax1.scatter(depos[0, :, 1], depos[0, :, 0])\n",
    "ax2 = plt.subplot(312, sharex=ax1)\n",
    "ax2.step(collector.binning[:-1], r_adcs)\n",
    "ax3 = plt.subplot(313, sharex=ax2, sharey=ax2)\n",
    "ax3.step(collector.binning[:-1], m_adcs)\n",
    "plt.tight_layout()"
   ]
  },
  {
   "cell_type": "markdown",
   "id": "df7919de",
   "metadata": {},
   "source": [
    "Above shows (top) the original depo locations in x vs y prior to drifting to x=0, and (middle) the \"ADC\" per channel for \"reality\" drift model and (bottom) same for the initial \"model\" to be optimized against \"reality\".  The latter should have more absorption (shorter lifetime) and more diffusion so should have lower wider peaks compared to \"reality\".\n",
    "\n",
    "Next we do one training of \"model\" against \"reality\" (note, these modules are remade inside the function)."
   ]
  },
  {
   "cell_type": "code",
   "execution_count": 17,
   "id": "3456db3d",
   "metadata": {},
   "outputs": [
    {
     "name": "stdout",
     "output_type": "stream",
     "text": [
      "parameter: ('0.param_dt', Parameter containing:\n",
      "tensor(-3.8918, requires_grad=True))\n",
      "parameter: ('0.param_lt', Parameter containing:\n",
      "tensor(-1.3863, requires_grad=True))\n",
      "Epoch 1\n",
      "-------------------------------\n",
      "loss: 0.010907  [    0/100000] DT:0.019995735958218575 lt:2000.209716796875\n",
      "loss: 0.010018  [ 1000/100000] DT:0.01995580643415451 lt:2002.2777099609375\n",
      "loss: 0.010714  [ 2000/100000] DT:0.01991584151983261 lt:2004.347412109375\n",
      "loss: 0.010876  [ 3000/100000] DT:0.019876323640346527 lt:2006.3948974609375\n",
      "loss: 0.010377  [ 4000/100000] DT:0.01983724907040596 lt:2008.438232421875\n",
      "loss: 0.010111  [ 5000/100000] DT:0.019798045977950096 lt:2010.49755859375\n",
      "loss: 0.010415  [ 6000/100000] DT:0.0197583120316267 lt:2012.563232421875\n",
      "loss: 0.009985  [ 7000/100000] DT:0.019718792289495468 lt:2014.647705078125\n",
      "loss: 0.010047  [ 8000/100000] DT:0.019679918885231018 lt:2016.6842041015625\n",
      "loss: 0.010457  [ 9000/100000] DT:0.01964084431529045 lt:2018.7249755859375\n",
      "loss: 0.010130  [10000/100000] DT:0.019602108746767044 lt:2020.7620849609375\n",
      "loss: 0.009681  [11000/100000] DT:0.019563529640436172 lt:2022.79638671875\n",
      "loss: 0.010290  [12000/100000] DT:0.019525116309523582 lt:2024.8271484375\n",
      "loss: 0.009518  [13000/100000] DT:0.019486581906676292 lt:2026.867919921875\n",
      "loss: 0.010268  [14000/100000] DT:0.019448330625891685 lt:2028.906982421875\n",
      "loss: 0.009440  [15000/100000] DT:0.01940982975065708 lt:2030.9200439453125\n",
      "loss: 0.009841  [16000/100000] DT:0.01937234215438366 lt:2032.902587890625\n",
      "loss: 0.009762  [17000/100000] DT:0.019334405660629272 lt:2034.907470703125\n",
      "loss: 0.009355  [18000/100000] DT:0.019297592341899872 lt:2036.8914794921875\n",
      "loss: 0.009750  [19000/100000] DT:0.019260631874203682 lt:2038.8883056640625\n",
      "loss: 0.009208  [20000/100000] DT:0.01922352984547615 lt:2040.8790283203125\n",
      "loss: 0.009614  [21000/100000] DT:0.019186144694685936 lt:2042.9119873046875\n",
      "loss: 0.009010  [22000/100000] DT:0.01914956234395504 lt:2044.8975830078125\n",
      "loss: 0.009044  [23000/100000] DT:0.01911376602947712 lt:2046.8565673828125\n",
      "loss: 0.009147  [24000/100000] DT:0.019076867029070854 lt:2048.839599609375\n",
      "loss: 0.009051  [25000/100000] DT:0.019040217623114586 lt:2050.8017578125\n",
      "loss: 0.009595  [26000/100000] DT:0.019003603607416153 lt:2052.77734375\n",
      "loss: 0.009105  [27000/100000] DT:0.01896742172539234 lt:2054.718505859375\n",
      "loss: 0.008671  [28000/100000] DT:0.01893143728375435 lt:2056.6826171875\n",
      "loss: 0.008551  [29000/100000] DT:0.018896030262112617 lt:2058.6025390625\n",
      "loss: 0.009061  [30000/100000] DT:0.018860332667827606 lt:2060.513671875\n",
      "loss: 0.008384  [31000/100000] DT:0.018825355917215347 lt:2062.460693359375\n",
      "loss: 0.008508  [32000/100000] DT:0.018790042027831078 lt:2064.377685546875\n",
      "loss: 0.008410  [33000/100000] DT:0.01875505968928337 lt:2066.275634765625\n",
      "loss: 0.008573  [34000/100000] DT:0.018720634281635284 lt:2068.213134765625\n",
      "loss: 0.008746  [35000/100000] DT:0.01868610270321369 lt:2070.11328125\n",
      "loss: 0.008086  [36000/100000] DT:0.018651820719242096 lt:2072.03369140625\n",
      "loss: 0.008429  [37000/100000] DT:0.018618054687976837 lt:2073.94580078125\n",
      "loss: 0.008315  [38000/100000] DT:0.01858372427523136 lt:2075.84912109375\n",
      "loss: 0.008596  [39000/100000] DT:0.01854940690100193 lt:2077.73681640625\n",
      "loss: 0.008040  [40000/100000] DT:0.018516482785344124 lt:2079.57958984375\n",
      "loss: 0.008548  [41000/100000] DT:0.018482524901628494 lt:2081.4638671875\n",
      "loss: 0.008544  [42000/100000] DT:0.01844918355345726 lt:2083.327392578125\n",
      "loss: 0.007833  [43000/100000] DT:0.018416235223412514 lt:2085.183349609375\n",
      "loss: 0.008244  [44000/100000] DT:0.018383469432592392 lt:2087.013916015625\n",
      "loss: 0.008560  [45000/100000] DT:0.01835004799067974 lt:2088.88134765625\n",
      "loss: 0.008083  [46000/100000] DT:0.018317094072699547 lt:2090.712646484375\n",
      "loss: 0.008348  [47000/100000] DT:0.01828424446284771 lt:2092.55908203125\n",
      "loss: 0.007777  [48000/100000] DT:0.018251504749059677 lt:2094.406982421875\n",
      "loss: 0.008103  [49000/100000] DT:0.018218906596302986 lt:2096.2568359375\n",
      "loss: 0.007818  [50000/100000] DT:0.01818605698645115 lt:2098.11767578125\n",
      "loss: 0.008055  [51000/100000] DT:0.018153999000787735 lt:2099.94140625\n",
      "loss: 0.007985  [52000/100000] DT:0.018121780827641487 lt:2101.7705078125\n",
      "loss: 0.007644  [53000/100000] DT:0.018089143559336662 lt:2103.601806640625\n",
      "loss: 0.007146  [54000/100000] DT:0.018057841807603836 lt:2105.423095703125\n",
      "loss: 0.007958  [55000/100000] DT:0.018026234582066536 lt:2107.2578125\n",
      "loss: 0.007556  [56000/100000] DT:0.017994629219174385 lt:2109.087646484375\n",
      "loss: 0.007468  [57000/100000] DT:0.01796307973563671 lt:2110.903076171875\n",
      "loss: 0.007480  [58000/100000] DT:0.017931252717971802 lt:2112.733154296875\n",
      "loss: 0.007314  [59000/100000] DT:0.017900001257658005 lt:2114.52197265625\n",
      "loss: 0.008035  [60000/100000] DT:0.01786906272172928 lt:2116.319580078125\n",
      "loss: 0.007706  [61000/100000] DT:0.0178384929895401 lt:2118.094482421875\n",
      "loss: 0.007566  [62000/100000] DT:0.01780756749212742 lt:2119.8955078125\n",
      "loss: 0.006940  [63000/100000] DT:0.017777318134903908 lt:2121.657958984375\n",
      "loss: 0.007609  [64000/100000] DT:0.01774677075445652 lt:2123.4814453125\n",
      "loss: 0.006856  [65000/100000] DT:0.017717119306325912 lt:2125.2412109375\n",
      "loss: 0.007006  [66000/100000] DT:0.01768728718161583 lt:2126.996337890625\n",
      "loss: 0.007345  [67000/100000] DT:0.017657237127423286 lt:2128.747802734375\n",
      "loss: 0.007396  [68000/100000] DT:0.017627552151679993 lt:2130.516845703125\n",
      "loss: 0.007026  [69000/100000] DT:0.017597859725356102 lt:2132.263671875\n",
      "loss: 0.007007  [70000/100000] DT:0.017568280920386314 lt:2134.013916015625\n",
      "loss: 0.007279  [71000/100000] DT:0.017538217827677727 lt:2135.786376953125\n",
      "loss: 0.007290  [72000/100000] DT:0.01750928722321987 lt:2137.516845703125\n",
      "loss: 0.007088  [73000/100000] DT:0.017479855567216873 lt:2139.253662109375\n",
      "loss: 0.006914  [74000/100000] DT:0.017450405284762383 lt:2140.980712890625\n",
      "loss: 0.006596  [75000/100000] DT:0.017421739175915718 lt:2142.6875\n",
      "loss: 0.007078  [76000/100000] DT:0.01739330030977726 lt:2144.413330078125\n",
      "loss: 0.006865  [77000/100000] DT:0.01736462116241455 lt:2146.129638671875\n",
      "loss: 0.006442  [78000/100000] DT:0.017335889860987663 lt:2147.8349609375\n",
      "loss: 0.006915  [79000/100000] DT:0.01730700209736824 lt:2149.572021484375\n",
      "loss: 0.006792  [80000/100000] DT:0.01727905496954918 lt:2151.28955078125\n",
      "loss: 0.006421  [81000/100000] DT:0.017250867560505867 lt:2152.983642578125\n",
      "loss: 0.006183  [82000/100000] DT:0.017222872003912926 lt:2154.68603515625\n",
      "loss: 0.006544  [83000/100000] DT:0.017194725573062897 lt:2156.4111328125\n",
      "loss: 0.006893  [84000/100000] DT:0.017166633158922195 lt:2158.125\n",
      "loss: 0.006666  [85000/100000] DT:0.017138810828328133 lt:2159.78955078125\n",
      "loss: 0.006425  [86000/100000] DT:0.017111362889409065 lt:2161.466064453125\n",
      "loss: 0.006504  [87000/100000] DT:0.017083989456295967 lt:2163.1279296875\n",
      "loss: 0.006736  [88000/100000] DT:0.017056625336408615 lt:2164.799560546875\n",
      "loss: 0.006242  [89000/100000] DT:0.017028994858264923 lt:2166.485107421875\n",
      "loss: 0.006231  [90000/100000] DT:0.017002547159790993 lt:2168.126220703125\n",
      "loss: 0.006327  [91000/100000] DT:0.01697513833642006 lt:2169.8076171875\n",
      "loss: 0.006163  [92000/100000] DT:0.016948573291301727 lt:2171.4677734375\n",
      "loss: 0.006378  [93000/100000] DT:0.01692168600857258 lt:2173.138671875\n",
      "loss: 0.006327  [94000/100000] DT:0.01689480058848858 lt:2174.783935546875\n",
      "loss: 0.006181  [95000/100000] DT:0.01686810702085495 lt:2176.437744140625\n",
      "loss: 0.005733  [96000/100000] DT:0.016842316836118698 lt:2178.066162109375\n",
      "loss: 0.006140  [97000/100000] DT:0.016815293580293655 lt:2179.7275390625\n",
      "loss: 0.005947  [98000/100000] DT:0.0167893934994936 lt:2181.34765625\n",
      "loss: 0.006060  [99000/100000] DT:0.016762802377343178 lt:2182.992431640625\n",
      "parameter: ('0.param_dt', Parameter containing:\n",
      "tensor(-4.0731, requires_grad=True)) tensor(0.0149)\n",
      "parameter: ('0.param_lt', Parameter containing:\n",
      "tensor(-1.2748, requires_grad=True)) tensor(-0.0090)\n",
      "Done!\n"
     ]
    }
   ],
   "source": [
    "nper = 10\n",
    "batch_size = 100\n",
    "nevent = batch_size * 1000\n",
    "pachinko.test_train(epochs=1, batch_size=batch_size, learning_rate=0.01, num_workers=4, nevent=nevent, nper=nper)"
   ]
  },
  {
   "cell_type": "markdown",
   "id": "ee3c8a4a",
   "metadata": {},
   "source": [
    "If all goes well, given enough epochs, this should converge to the \"reality\" values of `DT=0.01` and `lifetime=3000`.  In tests, some 30 epochs are needed resulting in a loss of 0.000001 and DT:0.01033917348831892 and lt:2986.109619140625."
   ]
  }
 ],
 "metadata": {
  "kernelspec": {
   "display_name": "Python 3 (ipykernel)",
   "language": "python",
   "name": "python3"
  },
  "language_info": {
   "codemirror_mode": {
    "name": "ipython",
    "version": 3
   },
   "file_extension": ".py",
   "mimetype": "text/x-python",
   "name": "python",
   "nbconvert_exporter": "python",
   "pygments_lexer": "ipython3",
   "version": "3.9.2"
  }
 },
 "nbformat": 4,
 "nbformat_minor": 5
}
